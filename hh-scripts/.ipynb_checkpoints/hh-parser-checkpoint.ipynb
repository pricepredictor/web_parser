{
 "cells": [
  {
   "cell_type": "code",
   "execution_count": 1,
   "metadata": {},
   "outputs": [],
   "source": [
    "from bs4 import BeautifulSoup\n",
    "import urllib.request\n",
    "import requests\n",
    "import re\n",
    "\n",
    "import numpy\n",
    "import pandas as pd \n",
    "\n",
    "import json\n",
    "import csv\n",
    "from itertools import chain\n",
    "from typing import List\n",
    "from multiprocessing.dummy import Pool as ThreadPool "
   ]
  },
  {
   "cell_type": "code",
   "execution_count": 2,
   "metadata": {},
   "outputs": [],
   "source": [
    "def get_vacancy_urls(initial_search_url: str) -> List[str]:\n",
    "    \n",
    "    def get_vacancy_urls_from_all_pages(search_url: str) -> List[str]:\n",
    "        total_pages_with_results = max([0] + [int(a.contents[0]) for a in BeautifulSoup(urllib.request.urlopen(search_url)).findAll(\"a\", {\"class\": \"HH-Pager-Control\"}) if len(a.contents[0]) <= 3])\n",
    "        vacancy_ulrs = []\n",
    "        for i in range(total_pages_with_results):\n",
    "            results_response = urllib.request.urlopen(search_url + f\"&page={i}\")\n",
    "            results_soup = BeautifulSoup(results_response)\n",
    "            vacancy_divs = results_soup.findAll(\"div\", {\"class\": \"vacancy-serp-item\"})\n",
    "            vacancy_ulrs += [div.findAll(\"a\", {\"class\":\"HH-LinkModifier\"})[0]['href'] for div in vacancy_divs]\n",
    "        return vacancy_ulrs\n",
    "\n",
    "    initial_search_results_page = urllib.request.urlopen(initial_search_url)\n",
    "    initial_search_results_soup = BeautifulSoup(initial_search_results_page)\n",
    "    clusters = initial_search_results_soup.findAll(\"div\", {\"class\": \"clusters-group-title\"})\n",
    "    divs = [c for c in clusters if c.attrs[\"data-toggle\"] in [\"professionalArea\", \"industry\"]]\n",
    "    cildren_contents = [[c for c in div.findNextSibling().children][0].contents for div in divs]\n",
    "    urls_with_filters = [initial_search_url.split('?')[0] + url_ending for url_ending in list(chain(*[[el.findAll(\"a\")[0].attrs[\"href\"] for el in [c1 for c1 in c[1:]] if len(el.findAll(\"a\"))] for c in cildren_contents]))]\n",
    "    return list(set(chain(*[get_vacancy_urls_from_all_pages(url) for url in urls_with_filters])))"
   ]
  },
  {
   "cell_type": "code",
   "execution_count": 94,
   "metadata": {},
   "outputs": [],
   "source": [
    "def save_crawled_vacancy_urls(search_urls, path):\n",
    "    crawled_urls = set([])\n",
    "    for url in search_urls:\n",
    "        "
   ]
  },
  {
   "cell_type": "code",
   "execution_count": 92,
   "metadata": {},
   "outputs": [],
   "source": [
    "search_in_smr_url = \"https://samara.hh.ru/search/vacancy?text=&area=78&salary=&currency_code=RUR&experience=doesNotMatter&employment=full&employment=part&employment=project&schedule=fullDay&schedule=shift&schedule=flexible&schedule=flyInFlyOut&order_by=relevance&search_period=&items_on_page=100&no_magic=true\"\n",
    "search_in_spb_url = \"https://spb.hh.ru/search/vacancy?text=&area=2&salary=&currency_code=RUR&only_with_salary=true&experience=doesNotMatter&employment=full&employment=part&employment=project&schedule=fullDay&schedule=shift&schedule=flexible&schedule=flyInFlyOut&order_by=salary_desc&search_period=&items_on_page=100&no_magic=true\"\n",
    "search_in_kzn_url = \"https://kazan.hh.ru/search/vacancy?text=&area=88&salary=&currency_code=RUR&experience=doesNotMatter&employment=full&employment=part&employment=project&schedule=fullDay&schedule=shift&schedule=flexible&schedule=flyInFlyOut&order_by=relevance&search_period=&items_on_page=100&no_magic=true\"\n",
    "search_in_vdk_url = \"https://vladivostok.hh.ru/search/vacancy?text=&area=22&salary=&currency_code=RUR&experience=doesNotMatter&employment=full&employment=part&employment=project&schedule=fullDay&schedule=shift&schedule=flexible&schedule=flyInFlyOut&order_by=relevance&search_period=&items_on_page=100&no_magic=true\"\n",
    "search_spb_url_2 = \"https://spb.hh.ru/search/vacancy?text=&area=2&salary=&currency_code=RUR&experience=doesNotMatter&employment=full&employment=part&employment=project&schedule=fullDay&order_by=salary_asc&search_period=&items_on_page=100&no_magic=true\"\n",
    "\n",
    "smr_urls = get_vacancy_urls(search_in_smr_url)\n",
    "vdk_urls = get_vacancy_urls(search_in_vdk_url)\n",
    "kzn_urls = get_vacancy_urls(search_in_kzn_url)\n",
    "spb_urls = get_vacancy_urls(search_in_spb_url)\n",
    "urls2 = get_vacancy_urls(search_spb_url_2)\n",
    "urls2 = [url for url in urls2 if url not in spb_urls]\n",
    "\n",
    "with open(\"../hh-data/urls/smr-urls.txt\", \"w\") as file:\n",
    "    file.write(\"\\n\".join(smr_urls))\n",
    "with open(\"../hh-data/urls/vdk-urls.txt\", \"w\") as file:\n",
    "    file.write(\"\\n\".join(vdk_urls))\n",
    "with open(\"../hh-data/urls/spb-urls.txt\", \"w\") as file:\n",
    "    file.write(\"\\n\".join(spb_urls))\n",
    "with open(\"../hh-data/urls/spb-urls-2.txt\", \"w\") as file:\n",
    "    file.write(\"\\n\".join(urls2))\n",
    "with open(\"..hh-data/urls/kzn-urls.txt\", \"w\") as file:\n",
    "    file.write(\"\\n\".join(kzn_urls))"
   ]
  },
  {
   "cell_type": "code",
   "execution_count": 15,
   "metadata": {},
   "outputs": [
    {
     "data": {
      "text/plain": [
       "{1, 2}"
      ]
     },
     "execution_count": 15,
     "metadata": {},
     "output_type": "execute_result"
    }
   ],
   "source": [
    "set(list(set([2])) + list(set([1, 2])))"
   ]
  },
  {
   "cell_type": "code",
   "execution_count": 6,
   "metadata": {},
   "outputs": [],
   "source": []
  },
  {
   "cell_type": "code",
   "execution_count": 9,
   "metadata": {},
   "outputs": [],
   "source": []
  },
  {
   "cell_type": "code",
   "execution_count": 11,
   "metadata": {},
   "outputs": [],
   "source": []
  },
  {
   "cell_type": "code",
   "execution_count": null,
   "metadata": {},
   "outputs": [],
   "source": []
  },
  {
   "cell_type": "code",
   "execution_count": 13,
   "metadata": {},
   "outputs": [],
   "source": []
  },
  {
   "cell_type": "code",
   "execution_count": 89,
   "metadata": {},
   "outputs": [],
   "source": []
  },
  {
   "cell_type": "code",
   "execution_count": null,
   "metadata": {},
   "outputs": [],
   "source": []
  }
 ],
 "metadata": {
  "kernelspec": {
   "display_name": "Python 3",
   "language": "python",
   "name": "python3"
  },
  "language_info": {
   "codemirror_mode": {
    "name": "ipython",
    "version": 3
   },
   "file_extension": ".py",
   "mimetype": "text/x-python",
   "name": "python",
   "nbconvert_exporter": "python",
   "pygments_lexer": "ipython3",
   "version": "3.6.7"
  }
 },
 "nbformat": 4,
 "nbformat_minor": 2
}
