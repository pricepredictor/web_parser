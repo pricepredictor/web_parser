{
 "cells": [
  {
   "cell_type": "code",
   "execution_count": 2,
   "metadata": {},
   "outputs": [],
   "source": [
    "from bs4 import BeautifulSoup\n",
    "import urllib.request\n",
    "import requests\n",
    "import re\n",
    "import math\n",
    "import numpy\n",
    "import pandas as pd \n",
    "\n",
    "import json\n",
    "import csv\n",
    "from itertools import chain\n",
    "from typing import List\n",
    "from multiprocessing.dummy import Pool as ThreadPool \n"
   ]
  },
  {
   "cell_type": "code",
   "execution_count": 3,
   "metadata": {},
   "outputs": [
    {
     "name": "stdout",
     "output_type": "stream",
     "text": [
      "Populating the interactive namespace from numpy and matplotlib\n"
     ]
    }
   ],
   "source": [
    "%pylab inline"
   ]
  },
  {
   "cell_type": "code",
   "execution_count": 8,
   "metadata": {},
   "outputs": [],
   "source": [
    "def make_df_with_float_salary(data):\n",
    "    for i in range(len(data) - 1):\n",
    "        data[i][2] = data[i][2].replace('от ', '').replace('до ', '').replace('.', '').split(' руб ')\n",
    "    with_salary = [r for r in data if len(r[2]) == 2]\n",
    "    with_float_salary = pd.DataFrame([[r[0], r[1], (1 if r[2][1] == 'на руки' else 0.8) * sum([int(el) for el in r[2][0].split(' ')]) / len(r[2][0].split(' ')) / 1000] for r in with_salary])\n",
    "    with_float_salary = with_float_salary.sort_values(by=[2, 1])\n",
    "    return with_float_salary"
   ]
  },
  {
   "cell_type": "code",
   "execution_count": 102,
   "metadata": {},
   "outputs": [],
   "source": [
    "def make_df(city_abbr: str) -> pd.DataFrame:\n",
    "    '''Returns a pd.DataFrame (vacancy url, adress, salary) of fulltime vacancies in \n",
    "       corresponding to the abbreviation city and export it to csv'''\n",
    "    \n",
    "    cities_dir = {'spb': 'Санкт-Петербург', 'smr': 'Самара', 'kzn': 'Казань', 'vdk': 'Владивосток'}\n",
    "    \n",
    "    with open(f'../hh-data/tables/{city_abbr}/fulltime/completed.csv') as file:\n",
    "        data = [row.replace('\\xa0', '').split('; ') for row in file.read().split('\\n')]\n",
    "    \n",
    "    for i in range(len(data) - 1):\n",
    "        data[i][2] = data[i][2].replace('от ', '').replace('до ', '').replace('.', '').split(' руб ')\n",
    "    with_set_salary = [r for r in data if len(r[2]) == 2]\n",
    "    df = pd.DataFrame([[r[0], \n",
    "                        f'{cities_dir[city_abbr]}, ' * (cities_dir[city_abbr] not in r[1]) + r[1], \n",
    "                        int((1 if r[2][1] == 'на руки' else 0.8) * sum([int(el) for el in r[2][0].split(' ')]) / len(r[2][0].split(' ')) / 1000)] for r in with_set_salary])\n",
    "    df = df.sort_values(by=[2, 1])\n",
    "    df.columns = ['url', 'adress', 'salary']\n",
    "    df = df[df.salary > 0][df.salary <= 300]    \n",
    "    df.to_csv(f'../hh-data/tables/{city_abbr}/fulltime/url-adress-salary.csv', index=False)\n",
    "    return df"
   ]
  },
  {
   "cell_type": "code",
   "execution_count": 103,
   "metadata": {},
   "outputs": [],
   "source": [
    "def plot_salaries(df, n=20):\n",
    "    n, bins, patches = plt.hist(list(df['salary'])[20:], n, density=True, facecolor='g', alpha=0.75)\n",
    "\n",
    "    plt.xlabel('Gpm')\n",
    "    plt.ylabel('Probability')\n",
    "    plt.grid(True)\n",
    "    plt.axis([10, 300, 0, 0.03])\n",
    "    plt.rcParams[\"figure.figsize\"] = [11, 11]\n",
    "    plt.show()\n"
   ]
  },
  {
   "cell_type": "code",
   "execution_count": 104,
   "metadata": {},
   "outputs": [],
   "source": [
    "def plot_ln_of_salaries(df, n=20):\n",
    "    n, bins, patches = plt.hist([math.log(a) for a in list(df['salary'])[20:]], n, density=True, facecolor='g', alpha=0.75)\n",
    "\n",
    "    plt.xlabel('Gpm')\n",
    "    plt.ylabel('Probability')\n",
    "    plt.grid(True)\n",
    "\n",
    "    plt.rcParams[\"figure.figsize\"] = [11, 11]\n",
    "    plt.show()\n"
   ]
  },
  {
   "cell_type": "code",
   "execution_count": null,
   "metadata": {
    "scrolled": false
   },
   "outputs": [],
   "source": []
  },
  {
   "cell_type": "code",
   "execution_count": 108,
   "metadata": {},
   "outputs": [
    {
     "name": "stderr",
     "output_type": "stream",
     "text": [
      "/home/disa/.local/lib/python3.6/site-packages/ipykernel_launcher.py:18: UserWarning: Boolean Series key will be reindexed to match DataFrame index.\n"
     ]
    }
   ],
   "source": [
    "spb_df = make_df('spb')\n",
    "smr_df = make_df('smr')\n",
    "kzn_df = make_df('kzn')\n"
   ]
  },
  {
   "cell_type": "code",
   "execution_count": null,
   "metadata": {},
   "outputs": [],
   "source": []
  },
  {
   "cell_type": "code",
   "execution_count": null,
   "metadata": {},
   "outputs": [],
   "source": []
  },
  {
   "cell_type": "code",
   "execution_count": null,
   "metadata": {},
   "outputs": [],
   "source": []
  },
  {
   "cell_type": "code",
   "execution_count": null,
   "metadata": {},
   "outputs": [],
   "source": []
  },
  {
   "cell_type": "code",
   "execution_count": null,
   "metadata": {},
   "outputs": [],
   "source": []
  },
  {
   "cell_type": "code",
   "execution_count": null,
   "metadata": {},
   "outputs": [],
   "source": []
  }
 ],
 "metadata": {
  "kernelspec": {
   "display_name": "Python 3",
   "language": "python",
   "name": "python3"
  },
  "language_info": {
   "codemirror_mode": {
    "name": "ipython",
    "version": 3
   },
   "file_extension": ".py",
   "mimetype": "text/x-python",
   "name": "python",
   "nbconvert_exporter": "python",
   "pygments_lexer": "ipython3",
   "version": "3.6.7"
  }
 },
 "nbformat": 4,
 "nbformat_minor": 2
}
